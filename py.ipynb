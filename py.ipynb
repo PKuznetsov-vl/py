{
  "nbformat": 4,
  "nbformat_minor": 0,
  "metadata": {
    "colab": {
      "provenance": [],
      "authorship_tag": "ABX9TyPQrnT7ADi6LdPhW3gfYgXU"
    },
    "kernelspec": {
      "name": "python3",
      "display_name": "Python 3"
    },
    "language_info": {
      "name": "python"
    }
  },
  "cells": [
    {
      "cell_type": "code",
      "execution_count": null,
      "metadata": {
        "id": "7DOElGaCa71p"
      },
      "outputs": [],
      "source": []
    },
    {
      "cell_type": "code",
      "source": [
        "!cd /content/jsons\n",
        "!pip install nrel-pysam"
      ],
      "metadata": {
        "colab": {
          "base_uri": "https://localhost:8080/"
        },
        "id": "VgkUTK9Ta_zu",
        "outputId": "ded3f63a-1782-4d26-f5ac-03de282d2698"
      },
      "execution_count": 22,
      "outputs": [
        {
          "output_type": "stream",
          "name": "stdout",
          "text": [
            "Looking in indexes: https://pypi.org/simple, https://us-python.pkg.dev/colab-wheels/public/simple/\n",
            "Requirement already satisfied: nrel-pysam in /usr/local/lib/python3.7/dist-packages (3.0.1)\n"
          ]
        }
      ]
    },
    {
      "cell_type": "code",
      "source": [
        "import json\n",
        "import PySAM.Pvwattsv8 as PVWatts\n",
        "import PySAM.Grid as Grid\n",
        "import PySAM.Utilityrate5 as UtilityRate\n",
        "import PySAM.Thermalrate as ThermalRate\n",
        "import PySAM.Battery as Batt\n",
        "import PySAM.Fuelcell as Fuel\n",
        "import PySAM.Cashloan as Cashloan\n",
        "import PySAM.Singleowner as Single\n",
        "import os\n"
      ],
      "metadata": {
        "id": "YlGlUA9ScY0_"
      },
      "execution_count": 23,
      "outputs": []
    },
    {
      "cell_type": "code",
      "source": [
        "pv = PVWatts.new()\n",
        "grid = Grid.from_existing(pv)\n",
        "ur = UtilityRate.from_existing(pv)\n",
        "cl = Single.from_existing(pv)"
      ],
      "metadata": {
        "id": "q9K9cpfeceQx"
      },
      "execution_count": 24,
      "outputs": []
    },
    {
      "cell_type": "code",
      "source": [
        "jsons_path=\"/content/jsons\"\n",
        "file_names = [f for f in os.listdir(jsons_path) \n",
        "if os.path.isfile(os.path.join(jsons_path, f))]\n",
        "print(file_names)\n"
      ],
      "metadata": {
        "colab": {
          "base_uri": "https://localhost:8080/"
        },
        "id": "miv4nYE2cg2m",
        "outputId": "a5ef4e99-26a4-4d66-ce11-3b432507c441"
      },
      "execution_count": 35,
      "outputs": [
        {
          "output_type": "stream",
          "name": "stdout",
          "text": [
            "['untitled__1_.json', 'untitled__1__pvwattsv8.json', 'untitled__1__battery.json', 'untitled__1__grid.json', 'untitled__1__singleowner.json', 'untitled__1__utilityrate5.json', 'untitled__1__thermalrate.json', 'untitled__1__fuelcell.json']\n"
          ]
        }
      ]
    },
    {
      "cell_type": "code",
      "source": [
        "modules = [pv, grid, ur, cl]\n",
        "for f, m in zip(file_names, modules):\n",
        "    print()\n",
        "    with open(jsons_path +'/'+ f , 'r') as file:\n",
        "        data = json.load(file)\n",
        "        for k, v in data.items():\n",
        "          print(k,v)\n",
        "          if k != \"number_inputs\":\n",
        "            m.value(k, v)\n",
        "\n",
        "for m in modules:\n",
        "    m.execute()\n",
        "    print('ex')"
      ],
      "metadata": {
        "colab": {
          "base_uri": "https://localhost:8080/",
          "height": 599
        },
        "id": "aq1c3L2CeAF_",
        "outputId": "96472fb4-cbd1-4175-a5a9-4a4eb6c3ea66"
      },
      "execution_count": 41,
      "outputs": [
        {
          "output_type": "stream",
          "name": "stdout",
          "text": [
            "\n",
            "solar_resource_file /Users/yurymaximov/SAM Downloaded Weather Files/hollister_36.8525_-121.402_psm3-tmy_60_tmy.csv\n",
            "albedo [0.2]\n",
            "use_wf_albedo 1\n",
            "system_use_lifetime_output 1\n",
            "analysis_period 30\n",
            "dc_degradation [0.5]\n",
            "system_capacity 240\n",
            "module_type 0\n",
            "dc_ac_ratio 1.3\n",
            "bifaciality 0\n",
            "array_type 2\n",
            "tilt 0\n",
            "azimuth 180\n",
            "gcr 0.3\n",
            "soiling [0, 0, 0, 0, 0, 0, 0, 0, 0, 0, 0, 0]\n",
            "losses 14.075660688264469\n",
            "en_snowloss 0\n",
            "inv_eff 96\n",
            "batt_simple_enable 0\n",
            "adjust:constant 0\n"
          ]
        },
        {
          "output_type": "error",
          "ename": "AttributeError",
          "evalue": "ignored",
          "traceback": [
            "\u001b[0;31m---------------------------------------------------------------------------\u001b[0m",
            "\u001b[0;31mAttributeError\u001b[0m                            Traceback (most recent call last)",
            "\u001b[0;32m<ipython-input-41-42c8009aef4d>\u001b[0m in \u001b[0;36m<module>\u001b[0;34m\u001b[0m\n\u001b[1;32m      7\u001b[0m           \u001b[0mprint\u001b[0m\u001b[0;34m(\u001b[0m\u001b[0mk\u001b[0m\u001b[0;34m,\u001b[0m\u001b[0mv\u001b[0m\u001b[0;34m)\u001b[0m\u001b[0;34m\u001b[0m\u001b[0;34m\u001b[0m\u001b[0m\n\u001b[1;32m      8\u001b[0m           \u001b[0;32mif\u001b[0m \u001b[0mk\u001b[0m \u001b[0;34m!=\u001b[0m \u001b[0;34m\"number_inputs\"\u001b[0m\u001b[0;34m:\u001b[0m\u001b[0;34m\u001b[0m\u001b[0;34m\u001b[0m\u001b[0m\n\u001b[0;32m----> 9\u001b[0;31m               \u001b[0mm\u001b[0m\u001b[0;34m.\u001b[0m\u001b[0mvalue\u001b[0m\u001b[0;34m(\u001b[0m\u001b[0mk\u001b[0m\u001b[0;34m,\u001b[0m \u001b[0mv\u001b[0m\u001b[0;34m)\u001b[0m\u001b[0;34m\u001b[0m\u001b[0;34m\u001b[0m\u001b[0m\n\u001b[0m\u001b[1;32m     10\u001b[0m \u001b[0;34m\u001b[0m\u001b[0m\n\u001b[1;32m     11\u001b[0m \u001b[0;32mfor\u001b[0m \u001b[0mm\u001b[0m \u001b[0;32min\u001b[0m \u001b[0mmodules\u001b[0m\u001b[0;34m:\u001b[0m\u001b[0;34m\u001b[0m\u001b[0;34m\u001b[0m\u001b[0m\n",
            "\u001b[0;31mAttributeError\u001b[0m: "
          ]
        }
      ]
    }
  ]
}