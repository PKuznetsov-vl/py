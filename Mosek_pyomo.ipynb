{
  "nbformat": 4,
  "nbformat_minor": 0,
  "metadata": {
    "colab": {
      "provenance": [],
      "authorship_tag": "ABX9TyNHjMGDPLWiaOWNZioohMb9",
      "include_colab_link": true
    },
    "kernelspec": {
      "name": "python3",
      "display_name": "Python 3"
    },
    "language_info": {
      "name": "python"
    }
  },
  "cells": [
    {
      "cell_type": "markdown",
      "metadata": {
        "id": "view-in-github",
        "colab_type": "text"
      },
      "source": [
        "<a href=\"https://colab.research.google.com/github/PKuznetsov-vl/py/blob/master/Mosek_pyomo.ipynb\" target=\"_parent\"><img src=\"https://colab.research.google.com/assets/colab-badge.svg\" alt=\"Open In Colab\"/></a>"
      ]
    },
    {
      "cell_type": "code",
      "execution_count": 2,
      "metadata": {
        "colab": {
          "base_uri": "https://localhost:8080/"
        },
        "id": "aeph9ed4VIO6",
        "outputId": "42365160-02c5-4e33-a0de-85a5981d4970"
      },
      "outputs": [
        {
          "output_type": "stream",
          "name": "stdout",
          "text": [
            "\u001b[33mWARNING: Running pip as the 'root' user can result in broken permissions and conflicting behaviour with the system package manager. It is recommended to use a virtual environment instead: https://pip.pypa.io/warnings/venv\u001b[0m\u001b[33m\n",
            "\u001b[0m\u001b[33mWARNING: Running pip as the 'root' user can result in broken permissions and conflicting behaviour with the system package manager. It is recommended to use a virtual environment instead: https://pip.pypa.io/warnings/venv\u001b[0m\u001b[33m\n",
            "\u001b[0m✨🍰✨ Everything looks OK!\n",
            "Looking in indexes: https://pypi.org/simple, https://us-python.pkg.dev/colab-wheels/public/simple/\n",
            "Requirement already satisfied: mosek in /usr/local/lib/python3.7/site-packages (10.0.25)\n",
            "\u001b[33mWARNING: Running pip as the 'root' user can result in broken permissions and conflicting behaviour with the system package manager. It is recommended to use a virtual environment instead: https://pip.pypa.io/warnings/venv\u001b[0m\u001b[33m\n",
            "\u001b[0mLooking in indexes: https://pypi.org/simple, https://us-python.pkg.dev/colab-wheels/public/simple/\n",
            "Requirement already satisfied: matplotlib in /usr/local/lib/python3.7/site-packages (3.5.3)\n",
            "Requirement already satisfied: fonttools>=4.22.0 in /usr/local/lib/python3.7/site-packages (from matplotlib) (4.37.4)\n",
            "Requirement already satisfied: packaging>=20.0 in /usr/local/lib/python3.7/site-packages (from matplotlib) (21.3)\n",
            "Requirement already satisfied: pillow>=6.2.0 in /usr/local/lib/python3.7/site-packages (from matplotlib) (9.2.0)\n",
            "Requirement already satisfied: numpy>=1.17 in /usr/local/lib/python3.7/site-packages (from matplotlib) (1.21.6)\n",
            "Requirement already satisfied: pyparsing>=2.2.1 in /usr/local/lib/python3.7/site-packages (from matplotlib) (3.0.9)\n",
            "Requirement already satisfied: kiwisolver>=1.0.1 in /usr/local/lib/python3.7/site-packages (from matplotlib) (1.4.4)\n",
            "Requirement already satisfied: python-dateutil>=2.7 in /usr/local/lib/python3.7/site-packages (from matplotlib) (2.8.2)\n",
            "Requirement already satisfied: cycler>=0.10 in /usr/local/lib/python3.7/site-packages (from matplotlib) (0.11.0)\n",
            "Requirement already satisfied: typing-extensions in /usr/local/lib/python3.7/site-packages (from kiwisolver>=1.0.1->matplotlib) (4.4.0)\n",
            "Requirement already satisfied: six>=1.5 in /usr/local/lib/python3.7/site-packages (from python-dateutil>=2.7->matplotlib) (1.16.0)\n",
            "\u001b[33mWARNING: Running pip as the 'root' user can result in broken permissions and conflicting behaviour with the system package manager. It is recommended to use a virtual environment instead: https://pip.pypa.io/warnings/venv\u001b[0m\u001b[33m\n",
            "\u001b[0m"
          ]
        }
      ],
      "source": [
        "!pip install -q pyomo\n",
        "!pip install -q condacolab\n",
        "import condacolab\n",
        "condacolab.install()\n",
        "#!conda install -c conda-forge coincbc\n",
        "#!conda install -c conda-forge ipopt\n",
        "!pip install mosek \n",
        "!pip install matplotlib --upgrade\n",
        "!export PYTHONPATH=\"$PYTHONPATH:/content\""
      ]
    },
    {
      "cell_type": "code",
      "source": [
        "import sys\n",
        "import os\n",
        "import re\n",
        "import glob\n",
        "import datetime as dt\n",
        "import time \n",
        "import numpy as np\n",
        "import pandas as pd\n",
        "%matplotlib inline\n",
        "import matplotlib\n",
        "import matplotlib.pyplot as plt\n",
        "from matplotlib.colors import LinearSegmentedColormap\n",
        "\n",
        "from mosek.fusion import *\n",
        "\n",
        "from notebook.services.config import ConfigManager"
      ],
      "metadata": {
        "id": "9MEaYYAGeBpt"
      },
      "execution_count": 13,
      "outputs": []
    },
    {
      "cell_type": "code",
      "source": [
        "# Colab additional settings\n",
        "os.environ['MOSEKLM_LICENSE_FILE']=\"/content\""
      ],
      "metadata": {
        "id": "3-AZMJRngk98"
      },
      "execution_count": 4,
      "outputs": []
    },
    {
      "cell_type": "code",
      "source": [
        "# Version checks\n",
        "print(sys.version)\n",
        "print('matplotlib: {}'.format(matplotlib.__version__))\n",
        "\n",
        "# Jupyter configuration\n",
        "c = ConfigManager()\n",
        "c.update('notebook', {\"CodeCell\": {\"cm_config\": {\"autoCloseBrackets\": False}}})  \n",
        "\n",
        "# Numpy options\n",
        "np.set_printoptions(precision=5, linewidth=120, suppress=True)\n",
        "\n",
        "# Pandas options\n",
        "pd.set_option('display.max_rows', None)\n",
        "\n",
        "# Matplotlib options\n",
        "plt.rcParams['figure.figsize'] = [12, 8]\n",
        "plt.rcParams['figure.dpi'] = 200"
      ],
      "metadata": {
        "colab": {
          "base_uri": "https://localhost:8080/"
        },
        "id": "Oi9bSTdBg2su",
        "outputId": "7d1459f0-18f5-4beb-b93a-a3be17c6f031"
      },
      "execution_count": 5,
      "outputs": [
        {
          "output_type": "stream",
          "name": "stdout",
          "text": [
            "3.7.14 (default, Sep  8 2022, 00:06:44) \n",
            "[GCC 7.5.0]\n",
            "matplotlib: 3.2.2\n"
          ]
        }
      ]
    },
    {
      "cell_type": "markdown",
      "source": [
        "import required packages"
      ],
      "metadata": {
        "id": "WYK38NgGs0Ub"
      }
    },
    {
      "cell_type": "code",
      "source": [
        "\n",
        "from pyomo.environ import * \n",
        "from pyomo.opt import SolverFactory"
      ],
      "metadata": {
        "id": "q1yhUWlxXg_d"
      },
      "execution_count": 6,
      "outputs": []
    },
    {
      "cell_type": "markdown",
      "source": [
        "Create a model\n"
      ],
      "metadata": {
        "id": "Q5RhFJQfsrCB"
      }
    },
    {
      "cell_type": "code",
      "source": [
        "model = ConcreteModel(name='(My-Pyomo-Model)')\n",
        "#Here, we have created a Concrete Pyomo model. Note that the argument name is optional.\n",
        "#Define decision variables of the model\n",
        "model.x = Var(domain = NonNegativeReals, name = 'x') \n",
        "model.y = Var(domain = NonNegativeReals, name = 'y')"
      ],
      "metadata": {
        "id": "mp66sWwRstpv"
      },
      "execution_count": 8,
      "outputs": []
    },
    {
      "cell_type": "markdown",
      "source": [
        "Define the objective function of the model\n"
      ],
      "metadata": {
        "id": "SfQeh0jktPia"
      }
    },
    {
      "cell_type": "code",
      "source": [
        "model.objective = Objective(expr = 6*model.x + 5*model.y, sense = maximize)\n"
      ],
      "metadata": {
        "id": "WLARbphjYK9v"
      },
      "execution_count": 9,
      "outputs": []
    },
    {
      "cell_type": "markdown",
      "source": [
        "Add constraints to the model\n",
        "Note that we don’t need to include the non-negativity constraints (x≥0, y≥0) because, by default, these are already included in the definition of the decision variables.\n"
      ],
      "metadata": {
        "id": "QdWPoUkItcHY"
      }
    },
    {
      "cell_type": "code",
      "source": [
        "model.constraints = ConstraintList()\n",
        "model.constraints.add(model.x + model.y <= 5); # constraint-1 \n",
        "model.constraints.add(3*model.x + 2*model.y <= 12); # constraint-2 \n",
        "# to suppress unnecessary outputs, use a semicolon at the end"
      ],
      "metadata": {
        "id": "3xY5yQSttiDi"
      },
      "execution_count": 10,
      "outputs": []
    },
    {
      "cell_type": "markdown",
      "source": [
        "Create a solver"
      ],
      "metadata": {
        "id": "Qvv6t3sOtlOx"
      }
    },
    {
      "cell_type": "code",
      "source": [
        "start_time=time.time()\n",
        "opt = SolverFactory(\"mosek\")\n",
        "res= opt.solve(model)\n",
        "print(res)\n",
        "end_time = time.time()\n",
        "print('solving time',end_time-start_time)"
      ],
      "metadata": {
        "colab": {
          "base_uri": "https://localhost:8080/"
        },
        "id": "w8FBZu8MtnhE",
        "outputId": "9753c7d7-412c-4ec6-d973-289bdb39a4ef"
      },
      "execution_count": 15,
      "outputs": [
        {
          "output_type": "stream",
          "name": "stdout",
          "text": [
            "\n",
            "Problem: \n",
            "- Name: \n",
            "  Lower bound: 26.999998933339434\n",
            "  Upper bound: 27.0\n",
            "  Number of objectives: 1\n",
            "  Number of constraints: 2\n",
            "  Number of variables: 2\n",
            "  Number of integer variables: 0\n",
            "  Number of continuous variables: 2\n",
            "  Number of nonzeros: 4\n",
            "  Sense: -1\n",
            "  Number of solutions: 1\n",
            "Solver: \n",
            "- Name: MOSEK 10.0.25\n",
            "  Status: ok\n",
            "  Wallclock time: 0.0005352540001695161\n",
            "  Termination condition: optimal\n",
            "  Termination message:  Model was solved to optimality and an optimal solution is available.\n",
            "Solution: \n",
            "- number of solutions: 0\n",
            "  number of solutions displayed: 0\n",
            "\n",
            "solving time 0.019543170928955078\n"
          ]
        }
      ]
    }
  ]
}